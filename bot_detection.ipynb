{
 "cells": [
  {
   "cell_type": "code",
   "execution_count": null,
   "metadata": {},
   "outputs": [],
   "source": [
    "import botometer\n",
    "from pprint import pprint\n",
    "import json\n",
    "import os\n",
    "from tqdm import tqdm\n",
    "import pickle as pk\n",
    "import numpy as np"
   ]
  },
  {
   "cell_type": "markdown",
   "metadata": {},
   "source": [
    "### System Setup"
   ]
  },
  {
   "cell_type": "code",
   "execution_count": null,
   "metadata": {},
   "outputs": [],
   "source": [
    "# The mashape_key should be placed here\n",
    "mashape_key = \"\"\n",
    "\n",
    "#The authentication information should be placed here\n",
    "twitter_app_auth = {\n",
    "    \"access_token\" : '',\n",
    "    \"access_token_secret\" : '',\n",
    "    \"consumer_key\" : '',\n",
    "    \"consumer_secret\" : '',\n",
    "  }\n",
    "bom = botometer.Botometer(wait_on_ratelimit=True,\n",
    "                          mashape_key=mashape_key,\n",
    "                          **twitter_app_auth)"
   ]
  },
  {
   "cell_type": "markdown",
   "metadata": {},
   "source": [
    "## Botometer"
   ]
  },
  {
   "cell_type": "code",
   "execution_count": null,
   "metadata": {},
   "outputs": [],
   "source": [
    "usernames = []\n",
    "usersBotSimilarity = {}\n",
    "deletedUsers = []"
   ]
  },
  {
   "cell_type": "code",
   "execution_count": null,
   "metadata": {},
   "outputs": [],
   "source": [
    "for user in tqdm(usernames):\n",
    "    try:\n",
    "        usersBotSimilarity[user] = dict(bom.check_account(user))\n",
    "    except:\n",
    "        deletedUsers.append(user)"
   ]
  },
  {
   "cell_type": "code",
   "execution_count": null,
   "metadata": {},
   "outputs": [],
   "source": [
    "json.dump(usersBotSimilarity, open(f'./usersBotSimilarity.json',\"w\"))\n",
    "json.dump(deletedUsers, open(f'./deletedUsers.json',\"w\"))"
   ]
  }
 ],
 "metadata": {
  "kernelspec": {
   "display_name": "Python 3 (ipykernel)",
   "language": "python",
   "name": "python3"
  },
  "language_info": {
   "codemirror_mode": {
    "name": "ipython",
    "version": 3
   },
   "file_extension": ".py",
   "mimetype": "text/x-python",
   "name": "python",
   "nbconvert_exporter": "python",
   "pygments_lexer": "ipython3",
   "version": "3.9.7"
  }
 },
 "nbformat": 4,
 "nbformat_minor": 4
}
