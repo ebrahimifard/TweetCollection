{
 "cells": [
  {
   "cell_type": "code",
   "execution_count": null,
   "id": "6bc93a4d-d381-4b4e-9d1d-27bdfc2026b8",
   "metadata": {},
   "outputs": [],
   "source": [
    "import tweepy\n",
    "import tqdm"
   ]
  },
  {
   "cell_type": "code",
   "execution_count": null,
   "id": "02b29ab0-a864-4bdb-9fc7-2e383a79d6f7",
   "metadata": {},
   "outputs": [],
   "source": [
    "consumer_key = \"\"\n",
    "consumer_secret = \"\"\n",
    "access_token = \"\"\n",
    "access_token_secret = \"\""
   ]
  },
  {
   "cell_type": "code",
   "execution_count": null,
   "id": "c86b6d23-7aed-40bb-833e-746dd13cbcd2",
   "metadata": {},
   "outputs": [],
   "source": [
    "auth = tweepy.OAuthHandler(consumer_key, consumer_secret)\n",
    "auth.set_access_token(access_token, access_token_secret)"
   ]
  },
  {
   "cell_type": "code",
   "execution_count": null,
   "id": "772aad0c-7110-4cfc-8ecb-3afdd5234ed6",
   "metadata": {},
   "outputs": [],
   "source": [
    "api = tweepy.API(auth, wait_on_rate_limit_notify=True, wait_on_rate_limit=True)"
   ]
  },
  {
   "cell_type": "code",
   "execution_count": null,
   "id": "88dbc05e-61f8-4eb2-8377-1c5664d0eec8",
   "metadata": {},
   "outputs": [],
   "source": [
    "path_to_tweet_ids = \"\"\n",
    "path_to_save_tweets = \"\""
   ]
  },
  {
   "cell_type": "code",
   "execution_count": null,
   "id": "817baf96-a9fc-4cfd-a727-1af983d8e829",
   "metadata": {},
   "outputs": [],
   "source": [
    "tweet_ids = pk.load(open(path_to_tweet_ids, \"rb\"))"
   ]
  },
  {
   "cell_type": "code",
   "execution_count": null,
   "id": "d68d8970-7997-495d-9c19-3dbe7769d2df",
   "metadata": {},
   "outputs": [],
   "source": [
    "tweet_objects = []\n",
    "not_retrieved_tweets = []\n",
    "for tweet_id in tqdm(tweet_ids):\n",
    "    try:\n",
    "        tweet_object = api.get_status(tweet_id, tweet_mode='extended')\n",
    "        tweet_object = tweet_object._json\n",
    "        tweet_objects.append(tweet_object)\n",
    "        json.dump(tweet_object, open(path_to_save_tweets + tweet_object['id_str'] + \".json\", \"w\"))\n",
    "    except:\n",
    "        not_retrieved_tweets.append(tweet_id)"
   ]
  }
 ],
 "metadata": {
  "kernelspec": {
   "display_name": "Python 3 (ipykernel)",
   "language": "python",
   "name": "python3"
  },
  "language_info": {
   "codemirror_mode": {
    "name": "ipython",
    "version": 3
   },
   "file_extension": ".py",
   "mimetype": "text/x-python",
   "name": "python",
   "nbconvert_exporter": "python",
   "pygments_lexer": "ipython3",
   "version": "3.9.7"
  }
 },
 "nbformat": 4,
 "nbformat_minor": 5
}
