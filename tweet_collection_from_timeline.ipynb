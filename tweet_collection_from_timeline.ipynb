{
 "cells": [
  {
   "cell_type": "code",
   "execution_count": null,
   "id": "4f31abcf-0119-4bdd-9ace-b9128b3f1d96",
   "metadata": {},
   "outputs": [],
   "source": [
    "import tweepy\n",
    "import json"
   ]
  },
  {
   "cell_type": "code",
   "execution_count": null,
   "id": "2aef88c3-771a-44cb-a9fc-dfe382788472",
   "metadata": {},
   "outputs": [],
   "source": [
    "consumer_key = \"\"\n",
    "consumer_secret = \"\"\n",
    "access_token = \"\"\n",
    "access_token_secret = \"\""
   ]
  },
  {
   "cell_type": "code",
   "execution_count": null,
   "id": "8173216a-0124-427c-aa87-8965c2cb8ffd",
   "metadata": {},
   "outputs": [],
   "source": [
    "path_to_save = \"\""
   ]
  },
  {
   "cell_type": "code",
   "execution_count": null,
   "id": "0851bffc-3427-468e-a38c-fa771ba5a7bd",
   "metadata": {},
   "outputs": [],
   "source": [
    "jsons = []\n",
    "timeline_tweets = api.user_timeline(screen_name=\"\", tweet_mode='extended')\n",
    "for tweet in timeline_tweets:\n",
    "    tweet_obj = tweet._json\n",
    "    jsons.append(tweet._json)\n",
    "    json.dump(tweet_obj, open(path_to_save + tweet_obj['id_str'] + \".json\", \"w\"))"
   ]
  }
 ],
 "metadata": {
  "kernelspec": {
   "display_name": "Python 3 (ipykernel)",
   "language": "python",
   "name": "python3"
  },
  "language_info": {
   "codemirror_mode": {
    "name": "ipython",
    "version": 3
   },
   "file_extension": ".py",
   "mimetype": "text/x-python",
   "name": "python",
   "nbconvert_exporter": "python",
   "pygments_lexer": "ipython3",
   "version": "3.9.7"
  }
 },
 "nbformat": 4,
 "nbformat_minor": 5
}
