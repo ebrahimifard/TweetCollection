{
 "cells": [
  {
   "cell_type": "code",
   "execution_count": null,
   "id": "c41e33e2-3984-44e1-ad65-65c3d230b376",
   "metadata": {},
   "outputs": [],
   "source": [
    "import tweepy\n",
    "import json\n",
    "import pickle as pk\n",
    "from datetime import datetime"
   ]
  },
  {
   "cell_type": "code",
   "execution_count": null,
   "id": "d2b7d144-33f6-4d48-a4a6-96fd45707fde",
   "metadata": {},
   "outputs": [],
   "source": [
    "consumer_key = \"\"\n",
    "consumer_secret = \"\"\n",
    "access_token = \"\"\n",
    "access_token_secret = \"\""
   ]
  },
  {
   "cell_type": "code",
   "execution_count": null,
   "id": "0b4737d3-e8b0-48f0-9d1c-d87f9c89d74b",
   "metadata": {},
   "outputs": [],
   "source": [
    "auth = tweepy.OAuthHandler(consumer_key, consumer_secret)\n",
    "auth.set_access_token(access_token, access_token_secret)"
   ]
  },
  {
   "cell_type": "code",
   "execution_count": null,
   "id": "c7d78ffc-88e3-4847-a055-7e45d518b2e0",
   "metadata": {},
   "outputs": [],
   "source": [
    "path_to_save_tweets = \"\"\n",
    "query = \"\""
   ]
  },
  {
   "cell_type": "code",
   "execution_count": null,
   "id": "2fe450a1-8374-47d6-8844-3d96a07d7277",
   "metadata": {},
   "outputs": [],
   "source": [
    "api = tweepy.API(auth, wait_on_rate_limit=True)"
   ]
  },
  {
   "cell_type": "code",
   "execution_count": null,
   "id": "131dac14-d23a-43f5-9b99-fb91bc8d173c",
   "metadata": {},
   "outputs": [],
   "source": [
    "while(True):\n",
    "    try:\n",
    "        tweet_obj = api.search_tweets(query, tweet_mode='extended')\n",
    "        for tweet in tweet_obj:\n",
    "            tweet = tweet._json\n",
    "            json.dump(tweet, open(path_to_save_tweets + datetime.now().strftime(\"%d-%m-%Y---%H-%M-%S---\") + tweet['id_str'] + \".json\", \"w\"))\n",
    "    except:\n",
    "        print(\"An exception is occured\")\n",
    "        break"
   ]
  }
 ],
 "metadata": {
  "kernelspec": {
   "display_name": "Python 3 (ipykernel)",
   "language": "python",
   "name": "python3"
  },
  "language_info": {
   "codemirror_mode": {
    "name": "ipython",
    "version": 3
   },
   "file_extension": ".py",
   "mimetype": "text/x-python",
   "name": "python",
   "nbconvert_exporter": "python",
   "pygments_lexer": "ipython3",
   "version": "3.9.7"
  }
 },
 "nbformat": 4,
 "nbformat_minor": 5
}
